{
  "nbformat": 4,
  "nbformat_minor": 0,
  "metadata": {
    "colab": {
      "provenance": []
    },
    "kernelspec": {
      "name": "python3",
      "display_name": "Python 3"
    },
    "language_info": {
      "name": "python"
    }
  },
  "cells": [
    {
      "cell_type": "code",
      "execution_count": 2,
      "metadata": {
        "colab": {
          "base_uri": "https://localhost:8080/"
        },
        "id": "pKoa1oRrXMfP",
        "outputId": "08c926a8-dc3c-4d22-cbd7-778e384da536"
      },
      "outputs": [
        {
          "output_type": "stream",
          "name": "stdout",
          "text": [
            "0\n",
            "1\n",
            "2\n",
            "3\n",
            "4\n",
            "5\n",
            "6\n",
            "7\n",
            "8\n",
            "9\n"
          ]
        }
      ],
      "source": [
        "for numbers in range(10):\n",
        "  print(numbers)\n"
      ]
    },
    {
      "cell_type": "code",
      "source": [
        "'''For Loop\n",
        "Purpose: Used to iterate over a sequence (such as a list, tuple, dictionary, set, or string) or any other iterable object.\n",
        "Purpose: Used to repeat a block of code as long as a condition is true.'''"
      ],
      "metadata": {
        "colab": {
          "base_uri": "https://localhost:8080/",
          "height": 36
        },
        "id": "RlicwHb4YlqS",
        "outputId": "81099cd2-a18b-4b89-b6a4-309828bcf122"
      },
      "execution_count": 3,
      "outputs": [
        {
          "output_type": "execute_result",
          "data": {
            "text/plain": [
              "'For Loop\\nPurpose: Used to iterate over a sequence (such as a list, tuple, dictionary, set, or string) or any other iterable object.\\nPurpose: Used to repeat a block of code as long as a condition is true.'"
            ],
            "application/vnd.google.colaboratory.intrinsic+json": {
              "type": "string"
            }
          },
          "metadata": {},
          "execution_count": 3
        }
      ]
    },
    {
      "cell_type": "code",
      "source": [
        "total_sum=0\n",
        "for numbers in range(1,100):\n",
        "  total_sum=total_sum+numbers\n",
        "  print(total_sum)"
      ],
      "metadata": {
        "colab": {
          "base_uri": "https://localhost:8080/"
        },
        "id": "3yBsyp06ZWKX",
        "outputId": "ff790501-b5de-4b7d-c41d-740f14dbabf7"
      },
      "execution_count": 4,
      "outputs": [
        {
          "output_type": "stream",
          "name": "stdout",
          "text": [
            "1\n",
            "3\n",
            "6\n",
            "10\n",
            "15\n",
            "21\n",
            "28\n",
            "36\n",
            "45\n",
            "55\n",
            "66\n",
            "78\n",
            "91\n",
            "105\n",
            "120\n",
            "136\n",
            "153\n",
            "171\n",
            "190\n",
            "210\n",
            "231\n",
            "253\n",
            "276\n",
            "300\n",
            "325\n",
            "351\n",
            "378\n",
            "406\n",
            "435\n",
            "465\n",
            "496\n",
            "528\n",
            "561\n",
            "595\n",
            "630\n",
            "666\n",
            "703\n",
            "741\n",
            "780\n",
            "820\n",
            "861\n",
            "903\n",
            "946\n",
            "990\n",
            "1035\n",
            "1081\n",
            "1128\n",
            "1176\n",
            "1225\n",
            "1275\n",
            "1326\n",
            "1378\n",
            "1431\n",
            "1485\n",
            "1540\n",
            "1596\n",
            "1653\n",
            "1711\n",
            "1770\n",
            "1830\n",
            "1891\n",
            "1953\n",
            "2016\n",
            "2080\n",
            "2145\n",
            "2211\n",
            "2278\n",
            "2346\n",
            "2415\n",
            "2485\n",
            "2556\n",
            "2628\n",
            "2701\n",
            "2775\n",
            "2850\n",
            "2926\n",
            "3003\n",
            "3081\n",
            "3160\n",
            "3240\n",
            "3321\n",
            "3403\n",
            "3486\n",
            "3570\n",
            "3655\n",
            "3741\n",
            "3828\n",
            "3916\n",
            "4005\n",
            "4095\n",
            "4186\n",
            "4278\n",
            "4371\n",
            "4465\n",
            "4560\n",
            "4656\n",
            "4753\n",
            "4851\n",
            "4950\n"
          ]
        }
      ]
    },
    {
      "cell_type": "code",
      "source": [
        "'''It looks like you're asking for a definition. Could you please specify what term or concept you would like a definition for? This will help me provide you with a clear and accurate explanation.\n",
        "\n",
        "\n",
        "\n",
        "\n",
        "\n",
        "\n",
        "'''"
      ],
      "metadata": {
        "colab": {
          "base_uri": "https://localhost:8080/",
          "height": 36
        },
        "id": "JaW7DZ03aXSq",
        "outputId": "b06d0daf-59a6-4165-99bf-55cdc8de843e"
      },
      "execution_count": 5,
      "outputs": [
        {
          "output_type": "execute_result",
          "data": {
            "text/plain": [
              "\"It looks like you're asking for a definition. Could you please specify what term or concept you would like a definition for? This will help me provide you with a clear and accurate explanation.\\n\\n\\n\\n\\n\\n\\n\""
            ],
            "application/vnd.google.colaboratory.intrinsic+json": {
              "type": "string"
            }
          },
          "metadata": {},
          "execution_count": 5
        }
      ]
    },
    {
      "cell_type": "code",
      "source": [
        "# Sample list of numbers\n",
        "numbers = [1, 2, 3, 4, 5]\n",
        "\n",
        "# Initialize the product to 1 (multiplicative identity)\n",
        "product = 1\n",
        "\n",
        "# Use a for loop to iterate through the list and multiply each element\n",
        "for number in numbers:\n",
        "    product *= number\n",
        "\n",
        "# Print the product of all elements\n",
        "print(\"The product of all elements in the list is:\", product)\n"
      ],
      "metadata": {
        "colab": {
          "base_uri": "https://localhost:8080/"
        },
        "id": "IwgfOsJAawzg",
        "outputId": "b24eeb61-04d2-410d-e5f0-ad12e0590ddc"
      },
      "execution_count": 7,
      "outputs": [
        {
          "output_type": "stream",
          "name": "stdout",
          "text": [
            "The product of all elements in the list is: 120\n"
          ]
        }
      ]
    },
    {
      "cell_type": "code",
      "source": [
        "for numbers in range(1,20):\n",
        "  if numbers%2==0:\n",
        "    print(numbers)"
      ],
      "metadata": {
        "colab": {
          "base_uri": "https://localhost:8080/"
        },
        "id": "-VtW51D2bJOO",
        "outputId": "14e4640f-4c80-43b9-a13b-cf88334b1f8f"
      },
      "execution_count": 9,
      "outputs": [
        {
          "output_type": "stream",
          "name": "stdout",
          "text": [
            "2\n",
            "4\n",
            "6\n",
            "8\n",
            "10\n",
            "12\n",
            "14\n",
            "16\n",
            "18\n"
          ]
        }
      ]
    },
    {
      "cell_type": "code",
      "source": [
        "# Function to calculate factorial\n",
        "def factorial(n):\n",
        "    # Initialize the factorial to 1 (multiplicative identity)\n",
        "    result = 1\n",
        "\n",
        "    # Use a for loop to multiply the result by each number from 1 to n\n",
        "    for i in range(1, n + 1):\n",
        "        result *= i\n",
        "\n",
        "    return result\n",
        "\n",
        "# Input: Get a number from the user\n",
        "number = int(input(\"Enter a number to calculate its factorial: \"))\n",
        "\n",
        "# Calculate the factorial of the input number\n",
        "factorial_result = factorial(number)\n",
        "\n",
        "# Output: Print the factorial\n",
        "print(f\"The factorial of {number} is {factorial_result}\")\n"
      ],
      "metadata": {
        "colab": {
          "base_uri": "https://localhost:8080/"
        },
        "id": "WhHR1HzLct2M",
        "outputId": "25896530-9d51-4c7c-e454-075460d0af73"
      },
      "execution_count": 10,
      "outputs": [
        {
          "output_type": "stream",
          "name": "stdout",
          "text": [
            "Enter a number to calculate its factorial: 5\n",
            "The factorial of 5 is 120\n"
          ]
        }
      ]
    },
    {
      "cell_type": "code",
      "source": [
        "string = \"hello\"\n",
        "for i in range(len(string)):\n",
        "    print(string[i])\n"
      ],
      "metadata": {
        "colab": {
          "base_uri": "https://localhost:8080/"
        },
        "id": "AbfqE-7ic6if",
        "outputId": "7de96cab-32eb-4949-fe2b-a20cc2d33af4"
      },
      "execution_count": 11,
      "outputs": [
        {
          "output_type": "stream",
          "name": "stdout",
          "text": [
            "h\n",
            "e\n",
            "l\n",
            "l\n",
            "o\n"
          ]
        }
      ]
    },
    {
      "cell_type": "code",
      "source": [
        "# Function to find the largest number in a list\n",
        "def find_largest(numbers):\n",
        "    # Check if the list is empty\n",
        "    if not numbers:\n",
        "        return None\n",
        "\n",
        "    # Initialize the largest number to the first element in the list\n",
        "    largest = numbers[0]\n",
        "\n",
        "    # Use a for loop to iterate through the list\n",
        "    for number in numbers:\n",
        "        # Update largest if the current number is greater\n",
        "        if number > largest:\n",
        "            largest = number\n",
        "\n",
        "    return largest\n",
        "\n",
        "# Sample list of numbers\n",
        "numbers = [3, 41, 12, 9, 74, 15]\n",
        "\n",
        "# Find the largest number in the list\n",
        "largest_number = find_largest(numbers)\n",
        "\n",
        "# Output the largest number\n",
        "print(\"The largest number in the list is:\", largest_number)\n"
      ],
      "metadata": {
        "colab": {
          "base_uri": "https://localhost:8080/"
        },
        "id": "VxAmncSYdMir",
        "outputId": "2341ac89-4f2b-415a-8290-a9620f8dcca3"
      },
      "execution_count": 12,
      "outputs": [
        {
          "output_type": "stream",
          "name": "stdout",
          "text": [
            "The largest number in the list is: 74\n"
          ]
        }
      ]
    },
    {
      "cell_type": "code",
      "source": [
        "def fibonacci(limit):\n",
        "    # Initialize the first two Fibonacci numbers\n",
        "    fib1, fib2 = 0, 1\n",
        "\n",
        "    # Print the first Fibonacci number (0)\n",
        "    print(fib1)\n",
        "\n",
        "    # Print the second Fibonacci number (1)\n",
        "    print(fib2)\n",
        "\n",
        "    # Use a for loop to generate Fibonacci numbers up to the limit\n",
        "    for _ in range(2, limit):\n",
        "        fib_next = fib1 + fib2\n",
        "        print(fib_next)\n",
        "\n",
        "        # Update fib1 and fib2 for the next iteration\n",
        "        fib1, fib2 = fib2, fib_next\n",
        "\n",
        "# Input: Get the limit from the user\n",
        "limit = int(input(\"Enter the limit for the Fibonacci sequence: \"))\n",
        "\n",
        "# Call the function to print Fibonacci sequence up to the specified limit\n",
        "fibonacci(limit)\n"
      ],
      "metadata": {
        "colab": {
          "base_uri": "https://localhost:8080/"
        },
        "id": "JcRVv9wCda_B",
        "outputId": "56334636-f41b-434d-d93e-4f17fb713f6c"
      },
      "execution_count": 13,
      "outputs": [
        {
          "output_type": "stream",
          "name": "stdout",
          "text": [
            "Enter the limit for the Fibonacci sequence: 10\n",
            "0\n",
            "1\n",
            "1\n",
            "2\n",
            "3\n",
            "5\n",
            "8\n",
            "13\n",
            "21\n",
            "34\n"
          ]
        }
      ]
    },
    {
      "cell_type": "code",
      "source": [
        "def count_vowels(input_string):\n",
        "    # Define a set of vowels (both lowercase and uppercase)\n",
        "    vowels = \"aeiouAEIOU\"\n",
        "\n",
        "    # Initialize a counter for vowels\n",
        "    vowel_count = 0\n",
        "\n",
        "    # Use a for loop to iterate through each character in the string\n",
        "    for char in input_string:\n",
        "        # Check if the character is a vowel\n",
        "        if char in vowels:\n",
        "            vowel_count += 1\n",
        "\n",
        "    return vowel_count\n",
        "\n",
        "# Input: Get the string from the user\n",
        "input_string = input(\"Enter a string: \")\n",
        "\n",
        "# Call the function to count vowels in the input string\n",
        "num_vowels = count_vowels(input_string)\n",
        "\n",
        "# Output: Print the number of vowels found\n",
        "print(f\"The number of vowels in the string '{input_string}' is: {num_vowels}\")\n",
        "\n"
      ],
      "metadata": {
        "colab": {
          "base_uri": "https://localhost:8080/"
        },
        "id": "gXFbH3mNdlbd",
        "outputId": "8f1f3b8d-fd0a-4c33-c33f-9cf26350df9f"
      },
      "execution_count": 14,
      "outputs": [
        {
          "output_type": "stream",
          "name": "stdout",
          "text": [
            "Enter a string: a\n",
            "The number of vowels in the string 'a' is: 1\n"
          ]
        }
      ]
    },
    {
      "cell_type": "code",
      "source": [],
      "metadata": {
        "id": "hoYr4IGAmXAp"
      },
      "execution_count": null,
      "outputs": []
    }
  ]
}